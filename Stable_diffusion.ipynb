{
 "cells": [
  {
   "cell_type": "markdown",
   "metadata": {},
   "source": [
    "Stable Diffusion 是文本条件隐式扩散模型"
   ]
  },
  {
   "cell_type": "code",
   "execution_count": null,
   "metadata": {},
   "outputs": [],
   "source": [
    "'''环境准备'''\n",
    "import torch\n",
    "import requests\n",
    "from PIL import Image\n",
    "from io import BytesIO\n",
    "from matplotlib import pyplot as plt\n",
    "\n",
    "from diffusers import (\n",
    "    StableDiffusionPipeline,\n",
    "    StableDiffusionImg2ImgPipeline,\n",
    "    StableDiffusionInpaintPipeline,\n",
    "    StableDiffusionDepth2ImgPipeline\n",
    ")"
   ]
  },
  {
   "cell_type": "code",
   "execution_count": null,
   "metadata": {},
   "outputs": [],
   "source": [
    "def download_image(url):\n",
    "    response = requests.get(url)\n",
    "    return Image.open(BytesIO(response.content)).convert('RGB')\n",
    "\n",
    "# img_url = ''\n",
    "# init_img = download_image(img_url).resize((512,512))\n",
    "\n",
    "device = (\n",
    "    'mps'\n",
    "    if torch.backends.mps.is_available()\n",
    "    else 'cuda'\n",
    "    if torch.cuda.is_available()\n",
    "    else 'cpu'\n",
    ")"
   ]
  },
  {
   "cell_type": "code",
   "execution_count": null,
   "metadata": {},
   "outputs": [],
   "source": [
    "'''从文本生成图像'''\n",
    "#download pipeline\n",
    "model_id = 'stabilityai/stable-diffusion-2-1-base'\n",
    "pipe = StableDiffusionPipeline.from_pretrained(model_id).to(device)\n",
    "# pipe = StableDiffusionPipeline.from_pretrained(model_id,\n",
    "# revision='fp16', torch_dtype=torch.float16).to(device) #fp16版本载入\n",
    "\n",
    "# pipe.enable_attention_slicing() #注意力切分，降速减小显存使用"
   ]
  },
  {
   "cell_type": "code",
   "execution_count": null,
   "metadata": {},
   "outputs": [],
   "source": [
    "#生成图像\n",
    "generator = torch.Generator(device=device).manual_seed(42)\n",
    "\n",
    "pipe_output = pipe(\n",
    "    prompt='winter cityscape',\n",
    "    negative_promote='low quality',\n",
    "    height=480, width=640,\n",
    "    guidance_scale=8,\n",
    "    num_inference_steps=35,\n",
    "    generator=generator\n",
    ")\n",
    "\n",
    "pipe_output.images[0]"
   ]
  },
  {
   "cell_type": "code",
   "execution_count": null,
   "metadata": {},
   "outputs": [],
   "source": [
    "#加大guidance_scale参数作用\n",
    "cfg_scales = [1.1, 8, 12]\n",
    "prompt = 'A dog with a pink hat'\n",
    "fig, axs = plt.subplots(1, len(cfg_scales), figsize=(16,5))\n",
    "for i, ax in enumerate(axs):\n",
    "    im = pipe(\n",
    "        ... #伪代码\n",
    "        guidance_scale = cfg_scales[i]\n",
    "    ).images[0]\n",
    "    ax.show(im); ax.set_title(f'CFG Scale{cfg_scales[i]}')"
   ]
  },
  {
   "cell_type": "code",
   "execution_count": null,
   "metadata": {},
   "outputs": [],
   "source": [
    "'''官网代码https://huggingface.co/stabilityai/stable-diffusion-2-1-base'''\n",
    "\n",
    "from diffusers import StableDiffusionPipeline, EulerDiscreteScheduler\n",
    "import torch\n",
    "\n",
    "model_id = \"stabilityai/stable-diffusion-2-1-base\"\n",
    "\n",
    "scheduler = EulerDiscreteScheduler.from_pretrained(model_id, subfolder=\"scheduler\")\n",
    "pipe = StableDiffusionPipeline.from_pretrained(model_id, scheduler=scheduler, torch_dtype=torch.float16)\n",
    "pipe = pipe.to(\"cuda\")\n",
    "\n",
    "prompt = \"a photo of an astronaut riding a horse on mars\"\n",
    "image = pipe(prompt).images[0]  \n",
    "    \n",
    "image.save(\"astronaut_rides_horse.png\")\n"
   ]
  }
 ],
 "metadata": {
  "kernelspec": {
   "display_name": "base",
   "language": "python",
   "name": "python3"
  },
  "language_info": {
   "codemirror_mode": {
    "name": "ipython",
    "version": 3
   },
   "file_extension": ".py",
   "mimetype": "text/x-python",
   "name": "python",
   "nbconvert_exporter": "python",
   "pygments_lexer": "ipython3",
   "version": "3.10.9"
  }
 },
 "nbformat": 4,
 "nbformat_minor": 2
}
